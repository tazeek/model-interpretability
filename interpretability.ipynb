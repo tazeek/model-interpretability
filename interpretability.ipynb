{
 "cells": [
  {
   "cell_type": "code",
   "execution_count": 1,
   "id": "3e706e06-f051-40a9-b04f-c73844a8037f",
   "metadata": {},
   "outputs": [
    {
     "name": "stderr",
     "output_type": "stream",
     "text": [
      "C:\\Users\\Tazeek\\anaconda3\\envs\\action-lab_projects\\lib\\site-packages\\tqdm\\auto.py:21: TqdmWarning: IProgress not found. Please update jupyter and ipywidgets. See https://ipywidgets.readthedocs.io/en/stable/user_install.html\n",
      "  from .autonotebook import tqdm as notebook_tqdm\n"
     ]
    }
   ],
   "source": [
    "from lime.lime_text import LimeTextExplainer\n",
    "from transformers import AutoTokenizer, AutoModelForSequenceClassification\n",
    "\n",
    "import torch\n",
    "import torch.nn.functional as F\n",
    "import scipy as sp\n",
    "import numpy as np"
   ]
  },
  {
   "cell_type": "code",
   "execution_count": null,
   "id": "bc5fc087-9718-4368-8b33-5510ee106895",
   "metadata": {},
   "outputs": [],
   "source": [
    "# Note: This is for non-deep learning approaches\n",
    "\n",
    "# Prepare everything before interpretability\n",
    "\n",
    "# Load the dataset\n",
    "\n",
    "# Transform the features (before it enters the model)\n",
    "\n",
    "# Create the model and the pipeline"
   ]
  },
  {
   "cell_type": "markdown",
   "id": "f2baeb9a-821a-49e8-9059-294e5c42cfba",
   "metadata": {},
   "source": [
    "# LIME\n",
    "\n",
    "This section is for intrepreting models, using LIME"
   ]
  },
  {
   "cell_type": "code",
   "execution_count": 2,
   "id": "d6381446-4f80-4721-8595-a78577a23970",
   "metadata": {},
   "outputs": [],
   "source": [
    "# For loading\n",
    "model_name = \"nateraw/bert-base-uncased-emotion\"\n",
    "\n",
    "tokenizer = AutoTokenizer.from_pretrained(model_name, use_fast=True, do_lower_case=True)\n",
    "model = AutoModelForSequenceClassification.from_pretrained(model_name, output_hidden_states=True)\n",
    "labels = sorted(model.config.label2id, key=model.config.label2id.get)\n",
    "\n",
    "class_names = labels"
   ]
  },
  {
   "cell_type": "code",
   "execution_count": 3,
   "id": "ad0171ca-2a62-4213-a869-57f90be7c4c8",
   "metadata": {},
   "outputs": [
    {
     "name": "stdout",
     "output_type": "stream",
     "text": [
      "[[0.13500156 0.0016683  0.00460634 0.8549804  0.00191366 0.0018297 ]]\n"
     ]
    }
   ],
   "source": [
    "# Create the function to fetch the probability scores\n",
    "def get_proba_scores(texts):\n",
    "\n",
    "    # Tokenize\n",
    "    # NOTE: This is for just one input.\n",
    "    # Let's adapt for future ones\n",
    "    tokenized = tokenizer(texts, padding=True, \n",
    "                return_tensors=\"pt\",\n",
    "                truncation=True)\n",
    "\n",
    "    # Create attention mask\n",
    "    #attention_mask = (tokenized != 0).type(torch.int64)\n",
    "\n",
    "    # Get the output logits and convert to scores\n",
    "    outputs = model(**tokenized)\n",
    "    probability = F.softmax(outputs.logits, dim=1).detach().numpy()\n",
    "    return probability\n",
    "\n",
    "sample = 'I really did not like what I saw and I hated every moment of it.'\n",
    "probability_scores = get_proba_scores(sample)\n",
    "print(probability_scores)"
   ]
  },
  {
   "cell_type": "code",
   "execution_count": null,
   "id": "9681e0c9-a75b-4b9f-a358-93c07952b782",
   "metadata": {},
   "outputs": [],
   "source": [
    "# Create the explainer object\n",
    "explainer = LimeTextExplainer(class_names=class_names)\n",
    "\n",
    "# Explain the instance passed in\n",
    "explain_bert_output = explainer.explain_instance(sample, get_proba_scores, num_features = 5)\n",
    "\n",
    "# Show the output in notebook\n",
    "explain_bert_output.show_in_notebook(text=sample)"
   ]
  },
  {
   "cell_type": "markdown",
   "id": "9c6fd822-3c00-4017-b1c3-185dfea33d12",
   "metadata": {},
   "source": [
    "# SHAP\n",
    "\n",
    "This section is for interpreting models using SHAP"
   ]
  },
  {
   "cell_type": "code",
   "execution_count": null,
   "id": "a0e4e2b2-75f5-4b73-ad62-606bc82c3e28",
   "metadata": {},
   "outputs": [],
   "source": []
  }
 ],
 "metadata": {
  "kernelspec": {
   "display_name": "Python 3 (ipykernel)",
   "language": "python",
   "name": "python3"
  },
  "language_info": {
   "codemirror_mode": {
    "name": "ipython",
    "version": 3
   },
   "file_extension": ".py",
   "mimetype": "text/x-python",
   "name": "python",
   "nbconvert_exporter": "python",
   "pygments_lexer": "ipython3",
   "version": "3.9.17"
  }
 },
 "nbformat": 4,
 "nbformat_minor": 5
}
