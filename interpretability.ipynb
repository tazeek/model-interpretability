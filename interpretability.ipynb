{
 "cells": [
  {
   "cell_type": "code",
   "execution_count": null,
   "id": "3e706e06-f051-40a9-b04f-c73844a8037f",
   "metadata": {},
   "outputs": [],
   "source": [
    "from lime.lime_text import LimeTextExplainer"
   ]
  },
  {
   "cell_type": "code",
   "execution_count": null,
   "id": "bc5fc087-9718-4368-8b33-5510ee106895",
   "metadata": {},
   "outputs": [],
   "source": [
    "# Prepare everything before interpretability\n",
    "\n",
    "# Load the dataset\n",
    "\n",
    "# Transform the features (before it enters the model)\n",
    "\n",
    "# Create the model and the pipeline"
   ]
  },
  {
   "cell_type": "markdown",
   "id": "f2baeb9a-821a-49e8-9059-294e5c42cfba",
   "metadata": {},
   "source": [
    "# LIME\n",
    "\n",
    "This section is for intrepreting models, using LIME"
   ]
  },
  {
   "cell_type": "code",
   "execution_count": null,
   "id": "6f66e046-0483-44f3-b648-6b318e5898f4",
   "metadata": {},
   "outputs": [],
   "source": []
  },
  {
   "cell_type": "markdown",
   "id": "9c6fd822-3c00-4017-b1c3-185dfea33d12",
   "metadata": {},
   "source": [
    "# SHAP\n",
    "\n",
    "This section is for interpreting models using SHAP"
   ]
  },
  {
   "cell_type": "code",
   "execution_count": null,
   "id": "a0e4e2b2-75f5-4b73-ad62-606bc82c3e28",
   "metadata": {},
   "outputs": [],
   "source": []
  }
 ],
 "metadata": {
  "kernelspec": {
   "display_name": "Python 3 (ipykernel)",
   "language": "python",
   "name": "python3"
  },
  "language_info": {
   "codemirror_mode": {
    "name": "ipython",
    "version": 3
   },
   "file_extension": ".py",
   "mimetype": "text/x-python",
   "name": "python",
   "nbconvert_exporter": "python",
   "pygments_lexer": "ipython3",
   "version": "3.9.17"
  }
 },
 "nbformat": 4,
 "nbformat_minor": 5
}
